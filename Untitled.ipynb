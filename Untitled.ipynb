{
 "cells": [
  {
   "cell_type": "code",
   "execution_count": 3,
   "metadata": {},
   "outputs": [
    {
     "ename": "ModuleNotFoundError",
     "evalue": "No module named 'ROOT'",
     "output_type": "error",
     "traceback": [
      "\u001b[0;31m---------------------------------------------------------------------------\u001b[0m",
      "\u001b[0;31mModuleNotFoundError\u001b[0m                       Traceback (most recent call last)",
      "\u001b[0;32m<ipython-input-3-a57b4ad5aae8>\u001b[0m in \u001b[0;36m<module>\u001b[0;34m\u001b[0m\n\u001b[1;32m      1\u001b[0m \u001b[0;31m#ROOT is imported to read the files in the .root data format.\u001b[0m\u001b[0;34m\u001b[0m\u001b[0;34m\u001b[0m\u001b[0;34m\u001b[0m\u001b[0m\n\u001b[0;32m----> 2\u001b[0;31m \u001b[0;32mimport\u001b[0m \u001b[0mROOT\u001b[0m\u001b[0;34m\u001b[0m\u001b[0;34m\u001b[0m\u001b[0m\n\u001b[0m\u001b[1;32m      3\u001b[0m \u001b[0;34m\u001b[0m\u001b[0m\n\u001b[1;32m      4\u001b[0m \u001b[0;31m# Here we open the data that we want to analyse, which is in the form of a .root file. A .root file consists of a tree having branches and leaves.\u001b[0m\u001b[0;34m\u001b[0m\u001b[0;34m\u001b[0m\u001b[0;34m\u001b[0m\u001b[0m\n\u001b[1;32m      5\u001b[0m \u001b[0mf\u001b[0m \u001b[0;34m=\u001b[0m \u001b[0mROOT\u001b[0m\u001b[0;34m.\u001b[0m\u001b[0mTFile\u001b[0m\u001b[0;34m.\u001b[0m\u001b[0mOpen\u001b[0m\u001b[0;34m(\u001b[0m\u001b[0;34m\"/Users/ashleymcdougall/Desktop/notebooks-collection-opendata/HZZ-analysis/Input/mc_105987.WZ.root\"\u001b[0m\u001b[0;34m)\u001b[0m\u001b[0;34m\u001b[0m\u001b[0;34m\u001b[0m\u001b[0m\n",
      "\u001b[0;31mModuleNotFoundError\u001b[0m: No module named 'ROOT'"
     ]
    }
   ],
   "source": [
    "#ROOT is imported to read the files in the .root data format.\n",
    "import ROOT\n",
    "\n",
    "# Here we open the data that we want to analyse, which is in the form of a .root file. A .root file consists of a tree having branches and leaves.\n",
    "f = ROOT.TFile.Open(\"/Users/ashleymcdougall/Desktop/notebooks-collection-opendata/HZZ-analysis/Input/mc_105987.WZ.root\")\n",
    "\n",
    "# Define a 'canvas' on which to draw a histogram. Its name is \"Canvas\" and its header is \"plot a variable\". The two following arguments define the width and the height of the canvas.\n",
    "canvas = ROOT.TCanvas(\"Canvas\",\"plot a variable\",800,600)\n",
    "\n",
    "# Here we define a tree named \"tree\" to extract the data from the input .root file.\n",
    "tree = f.Get(\"mini\")\n",
    "number_entries = tree.GetEntries()\n",
    "print (\"Number of entries in the tree = \", number_entries)\n",
    "\n",
    "# Define a histogram. Its name is variable and the header of the histogram is \"Example plot: Number of leptons\". It's x and y axis labels are in the next 2 arguments. The three following arguments indicate that this histogram contains 5 bins which have a range from -0.5 to 4.5. \n",
    "hist = ROOT.TH1F(\"variable\",\"Example plot: Number of leptons; Number of leptons; Events \",5,-0.5,4.5)\n",
    "\n",
    "# Loop over the data (in the tree) and store it in the histogram.\n",
    "#\tHere you could place any cuts you want to apply, before filling the histogram\n",
    "for event in tree:\n",
    "    hist.Fill(tree.lep_n)\n",
    "\n",
    "print (\"Histogram is filled\") # Signifies the end of the event loop above\n",
    " \n",
    "# Now want to draw the histogram, and set the fill colour\n",
    "hist.SetLineColor(ROOT.kBlack) \n",
    "hist.SetLineWidth(2) \n",
    "hist.SetFillColor(ROOT.kAzure)\n",
    "hist.Draw(\"HIST\")\n",
    "\n",
    "# Print the canvas, which contains the histogram\n",
    "canvas.Print()"
   ]
  },
  {
   "cell_type": "code",
   "execution_count": null,
   "metadata": {},
   "outputs": [],
   "source": []
  },
  {
   "cell_type": "code",
   "execution_count": null,
   "metadata": {},
   "outputs": [],
   "source": [
    "# Next we can also normalise the histogram (so the integral is 1), to allow us to see the proportions. By doing this, you can directly read of the y-axis what fraction of events fall into each bin. \n",
    "scale = hist.Integral()\n",
    "hist.Scale(1/scale)\n",
    "\n",
    "# Set some new colour settings for the histogram\n",
    "hist.SetLineColor(ROOT.kBlack)\n",
    "hist.SetLineWidth(2)          \n",
    "hist.SetFillColor(ROOT.kViolet)\n",
    "\n",
    "# Again we re-draw the histogram and canvas. \n",
    "hist.Draw(\"HIST\")\n",
    "canvas.Draw()"
   ]
  }
 ],
 "metadata": {
  "kernelspec": {
   "display_name": "Python 3",
   "language": "python",
   "name": "python3"
  },
  "language_info": {
   "codemirror_mode": {
    "name": "ipython",
    "version": 3
   },
   "file_extension": ".py",
   "mimetype": "text/x-python",
   "name": "python",
   "nbconvert_exporter": "python",
   "pygments_lexer": "ipython3",
   "version": "3.6.10"
  }
 },
 "nbformat": 4,
 "nbformat_minor": 4
}
