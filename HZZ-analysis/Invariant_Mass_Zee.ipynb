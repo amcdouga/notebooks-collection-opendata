{
 "cells": [
  {
   "cell_type": "code",
   "execution_count": 1,
   "metadata": {},
   "outputs": [
    {
     "name": "stdout",
     "output_type": "stream",
     "text": [
      "Welcome to JupyROOT 6.14/04\n"
     ]
    }
   ],
   "source": [
    "import ROOT\n",
    "%jsroot on"
   ]
  },
  {
   "cell_type": "code",
   "execution_count": 2,
   "metadata": {},
   "outputs": [],
   "source": [
    "f = ROOT.TFile.Open(\"Input/mc_147770.Zee.root\")"
   ]
  },
  {
   "cell_type": "code",
   "execution_count": 3,
   "metadata": {},
   "outputs": [
    {
     "name": "stdout",
     "output_type": "stream",
     "text": [
      "There are 7500000 in the tree\n"
     ]
    }
   ],
   "source": [
    "tree = f.Get(\"mini\")\n",
    "print \"There are \" + str(tree.GetEntries()) + \" in the tree\"\n",
    "##---- Uncomment to print the tree ----##\n",
    "## this contains information on the branches\n",
    "## available\n",
    "#tree.Print()\n"
   ]
  },
  {
   "cell_type": "code",
   "execution_count": 4,
   "metadata": {},
   "outputs": [],
   "source": [
    "hist = ROOT.TH1F(\"variable\",\"Mass of the Z boson; mass [GeV]; events\",30,40,140)\n",
    "hist.SetFillColor(1)\n"
   ]
  },
  {
   "cell_type": "code",
   "execution_count": 33,
   "metadata": {},
   "outputs": [
    {
     "name": "stdout",
     "output_type": "stream",
     "text": [
      "Done!\n"
     ]
    }
   ],
   "source": [
    "n_events = 0\n",
    "for event in tree:\n",
    "    n_events = n_events + 1\n",
    "    if n_events <=2000 :\n",
    "        if tree.lep_n == 2:\n",
    "            if tree.lep_charge[0] != tree.lep_charge[1]:\n",
    "                if tree.lep_type[0] == tree.lep_type[1]:\n",
    "                    # You can also use a TLorentzVector object\n",
    "                    # which helps in vector manipulation\n",
    "                    lep_pt_0  = tree.lep_pt[0]/1000.\n",
    "                    lep_eta_0 = tree.lep_eta[0]\n",
    "                    lep_phi_0 = tree.lep_phi[0]\n",
    "                    lep_E_0   = tree.lep_E[0]/1000.\n",
    "                \n",
    "                    lep_px_0  = lep_pt_0*ROOT.TMath.Cos(lep_phi_0)\n",
    "                    lep_py_0  = lep_pt_0*ROOT.TMath.Sin(lep_phi_0)\n",
    "                    lep_pz_0  = lep_pt_0*ROOT.TMath.ASinH(lep_eta_0)\n",
    "                        \n",
    "                    lep_pt_1  = tree.lep_pt[1]/1000.\n",
    "                    lep_eta_1 = tree.lep_eta[1]\n",
    "                    lep_phi_1 = tree.lep_phi[1]\n",
    "                    lep_E_1   = tree.lep_E[1]/1000.\n",
    "          \n",
    "                    lep_px_1  = lep_pt_1*ROOT.TMath.Cos(lep_phi_1)\n",
    "                    lep_py_1  = lep_pt_1*ROOT.TMath.Sin(lep_phi_1)\n",
    "                    lep_pz_1  = lep_pt_1*ROOT.TMath.ASinH(lep_eta_1)\n",
    "                    \n",
    "                    tot_E    = lep_E_0 + lep_E_1\n",
    "                    tot_px   = lep_px_0 + lep_px_1\n",
    "                    tot_py   = lep_py_0 + lep_py_1\n",
    "                    tot_pz   = lep_pz_0 + lep_pz_1\n",
    "                \n",
    "                    invMass = ROOT.TMath.Sqrt(ROOT.TMath.Power(tot_E,2)-(ROOT.TMath.Power(tot_px,2)+ROOT.TMath.Power(tot_py,2)+ROOT.TMath.Power(tot_pz,2)))\n",
    "\n",
    "                    hist.Fill(invMass)\n",
    "\n",
    "print(\"Done!\")"
   ]
  },
  {
   "cell_type": "code",
   "execution_count": 34,
   "metadata": {},
   "outputs": [
    {
     "name": "stderr",
     "output_type": "stream",
     "text": [
      "Warning in <TCanvas::Constructor>: Deleting canvas with same name: Canvas\n"
     ]
    }
   ],
   "source": [
    "canvas = ROOT.TCanvas(\"Canvas\",\"Canvas to plot variable\",800,600)\n",
    "hist.SetFillColor(2)\n",
    "hist.Draw()"
   ]
  },
  {
   "cell_type": "code",
   "execution_count": 19,
   "metadata": {},
   "outputs": [
    {
     "data": {
      "image/png": "[encoded data removed]",
      "text/plain": [
       "<IPython.core.display.Image object>"
      ]
     },
     "metadata": {},
     "output_type": "display_data"
    }
   ],
   "source": [
    "canvas.Draw()"
   ]
  }
 ],
 "metadata": {
  "kernelspec": {
   "display_name": "Python 2",
   "language": "python",
   "name": "python2"
  },
  "language_info": {
   "codemirror_mode": {
    "name": "ipython",
    "version": 2
   },
   "file_extension": ".py",
   "mimetype": "text/x-python",
   "name": "python",
   "nbconvert_exporter": "python",
   "pygments_lexer": "ipython2",
   "version": "2.7.15"
  }
 },
 "nbformat": 4,
 "nbformat_minor": 2
}
